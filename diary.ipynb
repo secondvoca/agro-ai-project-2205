{
 "cells": [
  {
   "cell_type": "markdown",
   "metadata": {},
   "source": [
    "# 220510 개발자 계획 공유 (언제든지 조정 변경 가능)\n",
    "1. 자료 사진을 구한다. 직접 촬영이나 웹 크롤링한다.\n",
    "2. 자료 사진 예시는 data 폴더에 있다.\n",
    "3. 2 가지 클래스로 분류가 어느 정도 가능한지 테스트 해본다.\n",
    "4. 2 가지로 혹은 3 ~ 4 가지 가운데 어느 쪽이 좋을 지 시험해 본다.\n",
    "5. 정상 / 비정상 (건조, 병해, 충해)\n",
    "\n",
    "6. 움직이는 기계가 준비되면 아래의 과정을 수행한다.\n",
    "7. 정해진 시험장 환경에서 어떻게 식물만을 촬영하면서 돌아다닐 수 있을 지 연구한다.\n",
    "8. 기계에 달린 카메라로 촬영되는 사진을 데이터로 만들면서 주행 능력을 개선한다.\n",
    "9. 검출 데이터로 쓰일 사진을 얼마만큼의 주기로 분석하면 좋을 지 생각해 본다."
   ]
  },
  {
   "cell_type": "code",
   "execution_count": 1,
   "metadata": {},
   "outputs": [
    {
     "name": "stdout",
     "output_type": "stream",
     "text": [
      "hello agro ai project\n"
     ]
    }
   ],
   "source": [
    "print('hello agro ai project')"
   ]
  },
  {
   "cell_type": "markdown",
   "metadata": {},
   "source": [
    "- 220510\n",
    "- 셀레니움을 이용한 구글 이미지 크롤링 테스트"
   ]
  },
  {
   "cell_type": "markdown",
   "metadata": {},
   "source": [
    "- 220511\n",
    "- 신경망을 구성할 때, 랜덤 포레스트와 같은 방식, 평균 정답률에 근거한 임계치 조정을 컨셉 구상\n",
    "- 단일 딥러닝에 비하여 어떤 성능을 보여줄까?\n",
    "- 촬영 사진이나 크롤링 사진으로 학습한 모델이 실험 환경에서도 어느 성능을 낼까?"
   ]
  },
  {
   "cell_type": "markdown",
   "metadata": {},
   "source": [
    "# 웹 알림을 위한 작업 220715\n",
    "* 노드 js를 활용하여 브라우저 푸쉬 알림 기능을 작성하려고 한다.\n",
    "* 참고 블로그: https://frontdev.tistory.com/entry/Nodejs%EB%A1%9C-%EA%B0%84%EB%8B%A8%ED%95%9C-Push-%EB%A7%8C%EB%93%A4%EA%B8%B0\n",
    "* 먼저 node js를 설치하였다. 설치 과정에서 노드에 필요한 여러 툴을 자동으로 설치하는 옵션을 선택하고 진행하였다. 굳이 필요한 옵션이 아니었을지도?...\n",
    "* 만약 노드 패키지 매니저를 사용할 때 경고가 나온다면 아래의 블로그의 설명으로 해결할 수 있다.\n",
    "* https://velog.io/@do_ng_iill/npm-WARN-config-global-global-local-are-deprecated.-Use-locationglobal-instead.-%ED%95%B4%EA%B2%B0\n",
    "* 블로그를 따라하다가 터미널에 명령을 입력해아햐는 부분이 있다. 이 명령은 포직스 형식이므로 깃 배쉬나 리눅스 환경에서 실행되어야 할 것이다.\n",
    "* 브라우저의 알림 설정을 허용해야 푸쉬가 나타난다.\n"
   ]
  },
  {
   "cell_type": "markdown",
   "metadata": {},
   "source": []
  }
 ],
 "metadata": {
  "kernelspec": {
   "display_name": "Python 3.10.5 64-bit",
   "language": "python",
   "name": "python3"
  },
  "language_info": {
   "codemirror_mode": {
    "name": "ipython",
    "version": 3
   },
   "file_extension": ".py",
   "mimetype": "text/x-python",
   "name": "python",
   "nbconvert_exporter": "python",
   "pygments_lexer": "ipython3",
   "version": "3.10.5"
  },
  "orig_nbformat": 4,
  "vscode": {
   "interpreter": {
    "hash": "369f2c481f4da34e4445cda3fffd2e751bd1c4d706f27375911949ba6bb62e1c"
   }
  }
 },
 "nbformat": 4,
 "nbformat_minor": 2
}
