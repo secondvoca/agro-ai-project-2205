{
 "cells": [
  {
   "cell_type": "markdown",
   "metadata": {},
   "source": [
    "## 220510 개발자 계획 공유 (언제든지 조정 변경 가능)\n",
    "1. 자료 사진을 구한다. 직접 촬영이나 웹 크롤링한다.\n",
    "2. 자료 사진 예시는 data 폴더에 있다.\n",
    "3. 2 가지 클래스로 분류가 어느 정도 가능한지 테스트 해본다.\n",
    "4. 2 가지로 혹은 3 ~ 4 가지 가운데 어느 쪽이 좋을 지 시험해 본다.\n",
    "5. 정상 / 비정상 (건조, 병해, 충해)\n",
    "\n",
    "6. 움직이는 기계가 준비되면 아래의 과정을 수행한다.\n",
    "7. 정해진 시험장 환경에서 어떻게 식물만을 촬영하면서 돌아다닐 수 있을 지 연구한다.\n",
    "8. 기계에 달린 카메라로 촬영되는 사진을 데이터로 만들면서 주행 능력을 개선한다.\n",
    "9. 검출 데이터로 쓰일 사진을 얼마만큼의 주기로 분석하면 좋을 지 생각해 본다."
   ]
  },
  {
   "cell_type": "code",
   "execution_count": 1,
   "metadata": {},
   "outputs": [
    {
     "name": "stdout",
     "output_type": "stream",
     "text": [
      "hello agro ai project\n"
     ]
    }
   ],
   "source": [
    "print('hello agro ai project')"
   ]
  },
  {
   "cell_type": "markdown",
   "metadata": {},
   "source": [
    "- 220510\n",
    "- 셀레니움을 이용한 구글 이미지 크롤링 테스트"
   ]
  },
  {
   "cell_type": "markdown",
   "metadata": {},
   "source": [
    "- 220511\n",
    "- 신경망을 구성할 때, 랜덤 포레스트와 같은 방식, 평균 정답률에 근거한 임계치 조정을 컨셉 구상\n",
    "- 단일 딥러닝에 비하여 어떤 성능을 보여줄까?\n",
    "- 촬영 사진이나 크롤링 사진으로 학습한 모델이 실험 환경에서도 어느 성능을 낼까?"
   ]
  },
  {
   "cell_type": "markdown",
   "metadata": {},
   "source": []
  }
 ],
 "metadata": {
  "interpreter": {
   "hash": "670d47fc6dc80f80aa866111b4a6d7604305c12055c675763027f9fd2542bd55"
  },
  "kernelspec": {
   "display_name": "Python 3.9.12 ('may22')",
   "language": "python",
   "name": "python3"
  },
  "language_info": {
   "codemirror_mode": {
    "name": "ipython",
    "version": 3
   },
   "file_extension": ".py",
   "mimetype": "text/x-python",
   "name": "python",
   "nbconvert_exporter": "python",
   "pygments_lexer": "ipython3",
   "version": "3.9.12"
  },
  "orig_nbformat": 4
 },
 "nbformat": 4,
 "nbformat_minor": 2
}
